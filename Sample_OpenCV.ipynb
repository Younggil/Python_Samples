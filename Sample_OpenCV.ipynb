{
 "cells": [
  {
   "cell_type": "markdown",
   "metadata": {},
   "source": [
    "# Read an image and show it using the OpenCV module"
   ]
  },
  {
   "cell_type": "code",
   "execution_count": 1,
   "metadata": {},
   "outputs": [],
   "source": [
    "# import OpenCV libary\n",
    "import cv2"
   ]
  },
  {
   "cell_type": "code",
   "execution_count": 2,
   "metadata": {},
   "outputs": [],
   "source": [
    "# read an image\n",
    "img = cv2.imread('SampleImage.jpg', cv2.IMREAD_COLOR)\n"
   ]
  },
  {
   "cell_type": "markdown",
   "metadata": {},
   "source": [
    "# cv2.imread('Filename', flag)\n",
    "\n",
    "## Filename: the image file name to read\n",
    "\n",
    "### flag options\n",
    "- cv2.IMREAD_COLOR (or 1): read an image with COLOR\n",
    "- cv2.IMREAD_GRAYSCALE (or 0): read an image with GRAYSCALE\n",
    "- cv2.IMREAD_UNCHANGED (or -1): read an image including alpha channel\n",
    "\n",
    "Using a command 'img.shape' > show ndarray type.\n",
    "- (X, Y, N)\n",
    "\n",
    "X:  vertical axis (top to bottom), Y: horizontal axis (left to right)\n",
    "\n",
    "(X, Y) = (0,0) : the top left corner\n",
    "\n",
    "N: number of values at a location (X,Y)\n",
    "\n",
    "- in OpenCV: the order of N for a color is B(lue), G(reen), and R(ed). "
   ]
  },
  {
   "cell_type": "code",
   "execution_count": 3,
   "metadata": {},
   "outputs": [],
   "source": [
    "# show an image\n",
    "cv2.imshow('SampleImage',img)\n",
    "cv2.waitKey(0)\n",
    "cv2.destroyAllWindows()"
   ]
  },
  {
   "cell_type": "markdown",
   "metadata": {},
   "source": [
    "## cv2.imshow('Wname', imageF)\n",
    "- This function will show an image called imageF in a new window called Wname.\n",
    "\n",
    "[Note] cv2.imshow() only works with cv2.waitKey(). If cv2.waitKey() is missed, a window does not show any image.\n",
    "\n",
    "## cv2.wait(n)\n",
    "- n is null or a number.\n",
    "- n=0 : wait until a key input\n",
    "- n=# : wait during #\n",
    "\n",
    "## cv2.destroyAllWindows()\n",
    " - terminate windows on the screen\n",
    "\n",
    "[Note] those three functions usually come together. \n",
    "\n",
    "[Note] In Pyhon, a keyboard input on an image window is necessary to close image windows and proceed running additional commands"
   ]
  },
  {
   "cell_type": "code",
   "execution_count": 4,
   "metadata": {},
   "outputs": [],
   "source": [
    "# convert colors\n",
    "imgBW = cv2.cvtColor(img, cv2.COLOR_BGR2GRAY)\n",
    "\n",
    "# show an image\n",
    "cv2.imshow('BWImage',imgBW)\n",
    "cv2.waitKey(0)\n",
    "cv2.destroyAllWindows()"
   ]
  },
  {
   "cell_type": "markdown",
   "metadata": {},
   "source": [
    "## cv2.cvtColor(imageF, cvtorder)\n",
    "- This function will covert color code from the original one to new one\n",
    "- imageF : an original image\n",
    "- cvtorder : a command to convert color code\n",
    "\n",
    "[Note] Using the relation G = 0.299R + 0.587G + 0.114B, an color image can be converted to a gray one.\n",
    "\n",
    "[Note] check this link: https://docs.opencv.org/2.4/modules/imgproc/doc/miscellaneous_transformations.html "
   ]
  },
  {
   "cell_type": "code",
   "execution_count": 5,
   "metadata": {},
   "outputs": [
    {
     "data": {
      "text/plain": [
       "True"
      ]
     },
     "execution_count": 5,
     "metadata": {},
     "output_type": "execute_result"
    }
   ],
   "source": [
    "# save an image\n",
    "cv2.imwrite('SampleGray.jpg', imgBW)"
   ]
  },
  {
   "cell_type": "markdown",
   "metadata": {},
   "source": [
    "## cv2.imwrite('Fname', imgaeF)\n",
    "- Fname is a file name when saving an image F"
   ]
  },
  {
   "cell_type": "code",
   "execution_count": null,
   "metadata": {},
   "outputs": [],
   "source": []
  }
 ],
 "metadata": {
  "kernelspec": {
   "display_name": "Python 3",
   "language": "python",
   "name": "python3"
  },
  "language_info": {
   "codemirror_mode": {
    "name": "ipython",
    "version": 3
   },
   "file_extension": ".py",
   "mimetype": "text/x-python",
   "name": "python",
   "nbconvert_exporter": "python",
   "pygments_lexer": "ipython3",
   "version": "3.7.0"
  }
 },
 "nbformat": 4,
 "nbformat_minor": 2
}
