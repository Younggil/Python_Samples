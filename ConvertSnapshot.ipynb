{
 "cells": [
  {
   "cell_type": "markdown",
   "metadata": {},
   "source": [
    "# Read/show: a movie file\n",
    "\n",
    "### References:\n",
    "\n",
    "https://zzsza.github.io/data/2018/01/23/opencv-1/\n",
    "\n",
    "https://m.blog.naver.com/PostView.nhn?blogId=chandong83&logNo=221129242278&proxyReferer=https%3A%2F%2Fwww.google.co.kr%2F\n",
    "\n",
    "https://m.blog.naver.com/PostView.nhn?blogId=samsjang&logNo=220500854338&proxyReferer=https%3A%2F%2Fwww.google.co.kr%2F\n",
    "\n",
    "https://m.blog.naver.com/PostView.nhn?blogId=chandong83&logNo=220932297731&proxyReferer=https%3A%2F%2Fwww.google.co.kr%2F\n",
    "\n",
    "\n",
    "#### Drawing functions\n",
    "\n",
    "https://docs.opencv.org/2.4/modules/core/doc/drawing_functions.html#void%20cvPutText(CvArr*%20img,%20const%20char*%20text,%20CvPoint%20org,%20const%20CvFont*%20font,%20CvScalar%20color)\n",
    "\n",
    "#### Frame number:\n",
    "https://docs.opencv.org/3.4.1/d8/dfe/classcv_1_1VideoCapture.html#aa6480e6972ef4c00d74814ec841a2939\n",
    "\n",
    "https://docs.opencv.org/3.4.1/d4/d15/group__videoio__flags__base.html#ggaeb8dd9c89c10a5c63c139bf7c4f5704da6223452891755166a4fd5173ea257068\n",
    "\n",
    "#### cv2 Functions (parameters):\n",
    "https://docs.opencv.org/2.4/modules/highgui/doc/reading_and_writing_images_and_video.html\n",
    "\n",
    "#### Draw a shape (openCV)\n",
    "https://opencv-python.readthedocs.io/en/latest/doc/03.drawShape/drawShape.html\n",
    "\n",
    "#### OpenCV getting started\n",
    "https://opencv-python-tutroals.readthedocs.io/en/latest/py_tutorials/py_gui/py_image_display/py_image_display.html"
   ]
  },
  {
   "cell_type": "code",
   "execution_count": 2,
   "metadata": {},
   "outputs": [],
   "source": [
    "# read modules\n",
    "import cv2\n"
   ]
  },
  {
   "cell_type": "code",
   "execution_count": 3,
   "metadata": {},
   "outputs": [],
   "source": [
    "# File name\n",
    "Fname = 'SampleMV.avi'\n",
    "# open a movie\n",
    "cap = cv2.VideoCapture(Fname)\n"
   ]
  },
  {
   "cell_type": "code",
   "execution_count": 4,
   "metadata": {},
   "outputs": [
    {
     "name": "stdout",
     "output_type": "stream",
     "text": [
      "Start recording\n",
      "Video finished\n",
      "Recording finished.\n"
     ]
    }
   ],
   "source": [
    "##### output\n",
    "\n",
    "# check whether the movie is opened\n",
    "# if not, terminate this program\n",
    "if cap.isOpened() == False:\n",
    "    print('Check the video file')\n",
    "    exit()\n",
    "\n",
    "# total frame number (video length)\n",
    "tnframe = int(cap.get(cv2.CAP_PROP_FRAME_COUNT))\n",
    "# to save a frame number\n",
    "fn = 0\n",
    "\n",
    "# to save a video\n",
    "fps = cap.get(cv2.CAP_PROP_FPS)\n",
    "width = int(cap.get(cv2.CAP_PROP_FRAME_WIDTH))\n",
    "height = int(cap.get(cv2.CAP_PROP_FRAME_HEIGHT))\n",
    "\n",
    "mvout='BWmovie.avi'\n",
    "\n",
    "# codec information\n",
    "fourcc = cv2.VideoWriter_fourcc(*'DIVX')\n",
    "\n",
    "\n",
    "# the last input 0 for gray scale movie, default 1 for BGR (in OpenCV)\n",
    "out = cv2.VideoWriter(mvout, fourcc, fps, (width, height), 0)\n",
    "print(\"Start recording\")\n",
    "\n",
    "# the loop is valid during a full length of a video\n",
    "while (True):\n",
    "    \n",
    "    # capread(): read one frame of a video\n",
    "    # if readin is true: ret = True, otherwhise ret = False\n",
    "    # read frame: frame\n",
    "    ret, frame = cap.read()\n",
    "    \n",
    "    if (ret == False):\n",
    "        print(\"Error: Reading a frame\")\n",
    "        break    \n",
    "    \n",
    "    # convert color to gray image of the current frame\n",
    "    Fgray = cv2.cvtColor(frame, cv2.COLOR_BGR2GRAY)\n",
    "    \n",
    "    # save a snapshot\n",
    "    if (fn == 0):\n",
    "        # color\n",
    "        img_name = \"frame_{:d}.jpg\".format(fn)\n",
    "        cv2.imwrite(img_name, frame)\n",
    "\n",
    "    \n",
    "    # add fonts on the iamge\n",
    "    cv2.putText(Fgray, \"Frame: {:d} of {:d}\".format(fn, tnframe), (50,50), \\\n",
    "                cv2.FONT_HERSHEY_SIMPLEX, 1, 0, 4  )\n",
    "    \n",
    "    cv2.imshow('frame - BW', Fgray)\n",
    "    \n",
    "    # add an image to a video output\n",
    "    out.write(Fgray)\n",
    "        \n",
    "    key = cv2.waitKey(30) & 0xFF\n",
    "    # if enter 'esc key'\n",
    "    if key == 27:\n",
    "        print(\"Recording is stopped (frame: {:d}).\".format(fn))\n",
    "        break\n",
    "\n",
    "    fn += 1\n",
    "    \n",
    "    if (fn == tnframe):\n",
    "        print(\"Video finished\")\n",
    "        break\n",
    "    \n",
    "# closes video file or caputuring device         \n",
    "cap.release()\n",
    "# close saving a file\n",
    "print(\"Recording finished.\")\n",
    "out.release()\n",
    "# close all windows\n",
    "cv2.destroyAllWindows()\n"
   ]
  },
  {
   "cell_type": "code",
   "execution_count": null,
   "metadata": {},
   "outputs": [],
   "source": []
  }
 ],
 "metadata": {
  "kernelspec": {
   "display_name": "Python 3",
   "language": "python",
   "name": "python3"
  },
  "language_info": {
   "codemirror_mode": {
    "name": "ipython",
    "version": 3
   },
   "file_extension": ".py",
   "mimetype": "text/x-python",
   "name": "python",
   "nbconvert_exporter": "python",
   "pygments_lexer": "ipython3",
   "version": "3.7.0"
  }
 },
 "nbformat": 4,
 "nbformat_minor": 2
}
